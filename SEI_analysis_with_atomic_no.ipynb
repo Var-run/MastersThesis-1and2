{
  "cells": [
    {
      "cell_type": "code",
      "execution_count": null,
      "id": "e39bc7a0",
      "metadata": {
        "id": "e39bc7a0"
      },
      "outputs": [],
      "source": [
        "import pandas as pd\n",
        "import seaborn as sns\n",
        "import matplotlib.pyplot as plt\n",
        "import sklearn\n",
        "from sklearn.model_selection import train_test_split\n",
        "from sklearn.linear_model import LogisticRegression, LogisticRegressionCV\n",
        "from sklearn.ensemble import RandomForestClassifier, RandomForestRegressor\n",
        "from sklearn.preprocessing import StandardScaler\n",
        "from lazypredict.Supervised import LazyClassifier, LazyRegressor\n",
        "from sklearn.metrics import *\n",
        "from mendeleev import element\n",
        "pd.set_option('display.max_columns', None)"
      ]
    },
    {
      "cell_type": "code",
      "execution_count": null,
      "id": "1239e05f",
      "metadata": {
        "id": "1239e05f"
      },
      "outputs": [],
      "source": [
        "df1 = pd.read_csv('llzo_dataset_clean-4.csv')"
      ]
    },
    {
      "cell_type": "code",
      "execution_count": null,
      "id": "95a93387",
      "metadata": {
        "id": "95a93387"
      },
      "outputs": [],
      "source": [
        "df1 = df1.dropna(axis=0, how='all')"
      ]
    },
    {
      "cell_type": "code",
      "execution_count": null,
      "id": "137c5ddc",
      "metadata": {
        "id": "137c5ddc"
      },
      "outputs": [],
      "source": [
        "df = df1.drop(['source', 'conductivity', 'log_cond'], axis=1).copy()"
      ]
    },
    {
      "cell_type": "code",
      "execution_count": null,
      "id": "0413e431",
      "metadata": {
        "id": "0413e431"
      },
      "outputs": [],
      "source": [
        "df = df.drop_duplicates(keep='first')"
      ]
    },
    {
      "cell_type": "code",
      "execution_count": null,
      "id": "d73ef276",
      "metadata": {
        "id": "d73ef276",
        "outputId": "aaf20766-f313-4c96-f858-0ae0795dcfba"
      },
      "outputs": [
        {
          "data": {
            "text/plain": [
              "[None, None, None]"
            ]
          },
          "execution_count": 6,
          "metadata": {},
          "output_type": "execute_result"
        }
      ],
      "source": [
        "[df[x].fillna('none', inplace=True) for x in ['li_dopant', 'la_dopant', 'zr_dopant']]"
      ]
    },
    {
      "cell_type": "code",
      "execution_count": null,
      "id": "df772332",
      "metadata": {
        "id": "df772332"
      },
      "outputs": [],
      "source": [
        "df['li_dopant'] = df['li_dopant'].apply(lambda x: x[0].upper() + x[1:])\n",
        "df['la_dopant'] = df['la_dopant'].apply(lambda x: x[0].upper() + x[1:])\n",
        "df['zr_dopant'] = df['zr_dopant'].apply(lambda x: x[0].upper() + x[1:])"
      ]
    },
    {
      "cell_type": "code",
      "execution_count": null,
      "id": "7df42aa9",
      "metadata": {
        "id": "7df42aa9"
      },
      "outputs": [],
      "source": [
        "df['li_dopant'] = df['li_dopant'].apply(lambda x: element(x).atomic_number if x!=\"None\" else 0)\n",
        "df['la_dopant'] = df['la_dopant'].apply(lambda x: element(x).atomic_number if x!=\"None\" else 0)\n",
        "df['zr_dopant'] = df['zr_dopant'].apply(lambda x: element(x).atomic_number if x!=\"None\" else 0)"
      ]
    },
    {
      "cell_type": "code",
      "execution_count": null,
      "id": "4b302869",
      "metadata": {
        "id": "4b302869"
      },
      "outputs": [],
      "source": [
        "df_ionic, df_relden, df_both = df.drop(['rel_dens_%'], axis=1).copy(), \\\n",
        "                               df.drop(['good_cond'], axis=1).dropna(subset=['rel_dens_%']).copy(), \\\n",
        "                               df.dropna(subset=['rel_dens_%']).copy()"
      ]
    },
    {
      "cell_type": "code",
      "execution_count": null,
      "id": "7d5994c4",
      "metadata": {
        "id": "7d5994c4"
      },
      "outputs": [],
      "source": [
        "df_ionic, df_relden, df_both = (x.reset_index(drop=True) for x in [df_ionic, df_relden, df_both])"
      ]
    },
    {
      "cell_type": "code",
      "execution_count": null,
      "id": "4bcb3509",
      "metadata": {
        "id": "4bcb3509"
      },
      "outputs": [],
      "source": [
        "scaler = StandardScaler()"
      ]
    },
    {
      "cell_type": "markdown",
      "id": "66fcdfa8",
      "metadata": {
        "id": "66fcdfa8"
      },
      "source": [
        "## Predicting Ionic Conductivity"
      ]
    },
    {
      "cell_type": "code",
      "execution_count": null,
      "id": "749c290f",
      "metadata": {
        "id": "749c290f"
      },
      "outputs": [],
      "source": [
        "# uncomment to include relative density\n",
        "# df_ionic = df.dropna(subset=['rel_dens_%'])"
      ]
    },
    {
      "cell_type": "code",
      "execution_count": null,
      "id": "b0b52834",
      "metadata": {
        "id": "b0b52834"
      },
      "outputs": [],
      "source": [
        "# cols_to_scale = ['li_sto', 'la_sto', 'zr_sto', 'li_dop_sto', 'la_dop_sto', 'zr_dop_sto', 'li_dopant', 'la_dopant', 'zr_dopant',\n",
        "#                      'li_dop_ionicrad', 'la_dop_ionicrad',\n",
        "#                      'zr_dop_ionicrad', 'li_dop_enev', 'la_dop_enev', 'zr_dop_enev']"
      ]
    },
    {
      "cell_type": "code",
      "execution_count": null,
      "id": "0e57249d",
      "metadata": {
        "id": "0e57249d"
      },
      "outputs": [],
      "source": [
        "# data_train[cols_to_scale] = scaler.fit_transform(data_train[cols_to_scale])\n",
        "# data_val[cols_to_scale] = scaler.transform(data_val[cols_to_scale])"
      ]
    },
    {
      "cell_type": "code",
      "execution_count": null,
      "id": "4821250e",
      "metadata": {
        "id": "4821250e"
      },
      "outputs": [],
      "source": [
        "data_train, data_val = train_test_split(df_ionic, random_state=42)"
      ]
    },
    {
      "cell_type": "code",
      "execution_count": null,
      "id": "01997e70",
      "metadata": {
        "id": "01997e70"
      },
      "outputs": [],
      "source": [
        "X_train, y_train, X_val, y_val = data_train.drop(['good_cond'], axis=1), data_train['good_cond'], \\\n",
        "                                 data_val.drop(['good_cond'], axis=1), data_val['good_cond']"
      ]
    },
    {
      "cell_type": "code",
      "execution_count": null,
      "id": "5c36d4af",
      "metadata": {
        "id": "5c36d4af"
      },
      "outputs": [],
      "source": [
        "# correlations = df_ionic.corr()[['good_cond']].sort_values(by='good_cond', ascending=False)\n",
        "# plt.figure(figsize=(5,8))\n",
        "# sns.heatmap(correlations, cmap='coolwarm', annot = correlations)"
      ]
    },
    {
      "cell_type": "code",
      "execution_count": null,
      "id": "d65cdcf7",
      "metadata": {
        "scrolled": true,
        "id": "d65cdcf7"
      },
      "outputs": [],
      "source": [
        "# models,predictions = clf.fit(X_train, X_val, y_train, y_val)"
      ]
    },
    {
      "cell_type": "code",
      "execution_count": null,
      "id": "b14085cb",
      "metadata": {
        "id": "b14085cb"
      },
      "outputs": [],
      "source": [
        "# print(models)"
      ]
    },
    {
      "cell_type": "code",
      "execution_count": null,
      "id": "60641cd2",
      "metadata": {
        "id": "60641cd2",
        "outputId": "233dc780-efd0-4fc6-c53b-ab80e76f9d3b"
      },
      "outputs": [
        {
          "name": "stderr",
          "output_type": "stream",
          "text": [
            "100%|█████████████████████████████████████████████████████████████████████████████████| 29/29 [00:01<00:00, 15.12it/s]"
          ]
        },
        {
          "name": "stdout",
          "output_type": "stream",
          "text": [
            "[LightGBM] [Info] Number of positive: 63, number of negative: 67\n",
            "[LightGBM] [Warning] Auto-choosing col-wise multi-threading, the overhead of testing was 0.000159 seconds.\n",
            "You can set `force_col_wise=true` to remove the overhead.\n",
            "[LightGBM] [Info] Total Bins 139\n",
            "[LightGBM] [Info] Number of data points in the train set: 130, number of used features: 13\n",
            "[LightGBM] [Info] [binary:BoostFromScore]: pavg=0.484615 -> initscore=-0.061558\n",
            "[LightGBM] [Info] Start training from score -0.061558\n",
            "[LightGBM] [Warning] No further splits with positive gain, best gain: -inf\n",
            "[LightGBM] [Warning] No further splits with positive gain, best gain: -inf\n",
            "[LightGBM] [Warning] No further splits with positive gain, best gain: -inf\n",
            "[LightGBM] [Warning] No further splits with positive gain, best gain: -inf\n",
            "[LightGBM] [Warning] No further splits with positive gain, best gain: -inf\n",
            "[LightGBM] [Warning] No further splits with positive gain, best gain: -inf\n",
            "[LightGBM] [Warning] No further splits with positive gain, best gain: -inf\n",
            "[LightGBM] [Warning] No further splits with positive gain, best gain: -inf\n",
            "[LightGBM] [Warning] No further splits with positive gain, best gain: -inf\n",
            "[LightGBM] [Warning] No further splits with positive gain, best gain: -inf\n",
            "[LightGBM] [Warning] No further splits with positive gain, best gain: -inf\n",
            "[LightGBM] [Warning] No further splits with positive gain, best gain: -inf\n",
            "[LightGBM] [Warning] No further splits with positive gain, best gain: -inf\n",
            "[LightGBM] [Warning] No further splits with positive gain, best gain: -inf\n",
            "[LightGBM] [Warning] No further splits with positive gain, best gain: -inf\n",
            "[LightGBM] [Warning] No further splits with positive gain, best gain: -inf\n",
            "[LightGBM] [Warning] No further splits with positive gain, best gain: -inf\n",
            "[LightGBM] [Warning] No further splits with positive gain, best gain: -inf\n",
            "[LightGBM] [Warning] No further splits with positive gain, best gain: -inf\n",
            "[LightGBM] [Warning] No further splits with positive gain, best gain: -inf\n",
            "[LightGBM] [Warning] No further splits with positive gain, best gain: -inf\n",
            "[LightGBM] [Warning] No further splits with positive gain, best gain: -inf\n",
            "[LightGBM] [Warning] No further splits with positive gain, best gain: -inf\n",
            "[LightGBM] [Warning] No further splits with positive gain, best gain: -inf\n",
            "[LightGBM] [Warning] No further splits with positive gain, best gain: -inf\n",
            "[LightGBM] [Warning] No further splits with positive gain, best gain: -inf\n",
            "[LightGBM] [Warning] No further splits with positive gain, best gain: -inf\n",
            "[LightGBM] [Warning] No further splits with positive gain, best gain: -inf\n",
            "[LightGBM] [Warning] No further splits with positive gain, best gain: -inf\n",
            "[LightGBM] [Warning] No further splits with positive gain, best gain: -inf\n",
            "[LightGBM] [Warning] No further splits with positive gain, best gain: -inf\n",
            "[LightGBM] [Warning] No further splits with positive gain, best gain: -inf\n",
            "[LightGBM] [Warning] No further splits with positive gain, best gain: -inf\n",
            "[LightGBM] [Warning] No further splits with positive gain, best gain: -inf\n",
            "[LightGBM] [Warning] No further splits with positive gain, best gain: -inf\n",
            "[LightGBM] [Warning] No further splits with positive gain, best gain: -inf\n",
            "[LightGBM] [Warning] No further splits with positive gain, best gain: -inf\n",
            "[LightGBM] [Warning] No further splits with positive gain, best gain: -inf\n",
            "[LightGBM] [Warning] No further splits with positive gain, best gain: -inf\n",
            "[LightGBM] [Warning] No further splits with positive gain, best gain: -inf\n",
            "[LightGBM] [Warning] No further splits with positive gain, best gain: -inf\n",
            "[LightGBM] [Warning] No further splits with positive gain, best gain: -inf\n",
            "[LightGBM] [Warning] No further splits with positive gain, best gain: -inf\n",
            "[LightGBM] [Warning] No further splits with positive gain, best gain: -inf\n",
            "[LightGBM] [Warning] No further splits with positive gain, best gain: -inf\n",
            "[LightGBM] [Warning] No further splits with positive gain, best gain: -inf\n",
            "[LightGBM] [Warning] No further splits with positive gain, best gain: -inf\n",
            "[LightGBM] [Warning] No further splits with positive gain, best gain: -inf\n",
            "[LightGBM] [Warning] No further splits with positive gain, best gain: -inf\n",
            "[LightGBM] [Warning] No further splits with positive gain, best gain: -inf\n",
            "[LightGBM] [Warning] No further splits with positive gain, best gain: -inf\n",
            "[LightGBM] [Warning] No further splits with positive gain, best gain: -inf\n",
            "[LightGBM] [Warning] No further splits with positive gain, best gain: -inf\n",
            "[LightGBM] [Warning] No further splits with positive gain, best gain: -inf\n",
            "[LightGBM] [Warning] No further splits with positive gain, best gain: -inf\n",
            "[LightGBM] [Warning] No further splits with positive gain, best gain: -inf\n",
            "[LightGBM] [Warning] No further splits with positive gain, best gain: -inf\n",
            "[LightGBM] [Warning] No further splits with positive gain, best gain: -inf\n",
            "[LightGBM] [Warning] No further splits with positive gain, best gain: -inf\n",
            "[LightGBM] [Warning] No further splits with positive gain, best gain: -inf\n",
            "[LightGBM] [Warning] No further splits with positive gain, best gain: -inf\n",
            "[LightGBM] [Warning] No further splits with positive gain, best gain: -inf\n",
            "[LightGBM] [Warning] No further splits with positive gain, best gain: -inf\n",
            "[LightGBM] [Warning] No further splits with positive gain, best gain: -inf\n",
            "[LightGBM] [Warning] No further splits with positive gain, best gain: -inf\n",
            "[LightGBM] [Warning] No further splits with positive gain, best gain: -inf\n",
            "[LightGBM] [Warning] No further splits with positive gain, best gain: -inf\n",
            "[LightGBM] [Warning] No further splits with positive gain, best gain: -inf\n",
            "[LightGBM] [Warning] No further splits with positive gain, best gain: -inf\n",
            "[LightGBM] [Warning] No further splits with positive gain, best gain: -inf\n",
            "[LightGBM] [Warning] No further splits with positive gain, best gain: -inf\n",
            "[LightGBM] [Warning] No further splits with positive gain, best gain: -inf\n",
            "[LightGBM] [Warning] No further splits with positive gain, best gain: -inf\n",
            "[LightGBM] [Warning] No further splits with positive gain, best gain: -inf\n",
            "[LightGBM] [Warning] No further splits with positive gain, best gain: -inf\n",
            "[LightGBM] [Warning] No further splits with positive gain, best gain: -inf\n",
            "[LightGBM] [Warning] No further splits with positive gain, best gain: -inf\n",
            "[LightGBM] [Warning] No further splits with positive gain, best gain: -inf\n",
            "[LightGBM] [Warning] No further splits with positive gain, best gain: -inf\n",
            "[LightGBM] [Warning] No further splits with positive gain, best gain: -inf\n",
            "[LightGBM] [Warning] No further splits with positive gain, best gain: -inf\n",
            "[LightGBM] [Warning] No further splits with positive gain, best gain: -inf\n",
            "[LightGBM] [Warning] No further splits with positive gain, best gain: -inf\n",
            "[LightGBM] [Warning] No further splits with positive gain, best gain: -inf\n",
            "[LightGBM] [Warning] No further splits with positive gain, best gain: -inf\n",
            "[LightGBM] [Warning] No further splits with positive gain, best gain: -inf\n",
            "[LightGBM] [Warning] No further splits with positive gain, best gain: -inf\n",
            "[LightGBM] [Warning] No further splits with positive gain, best gain: -inf\n",
            "[LightGBM] [Warning] No further splits with positive gain, best gain: -inf\n",
            "[LightGBM] [Warning] No further splits with positive gain, best gain: -inf\n",
            "[LightGBM] [Warning] No further splits with positive gain, best gain: -inf\n",
            "[LightGBM] [Warning] No further splits with positive gain, best gain: -inf\n",
            "[LightGBM] [Warning] No further splits with positive gain, best gain: -inf\n",
            "[LightGBM] [Warning] No further splits with positive gain, best gain: -inf\n",
            "[LightGBM] [Warning] No further splits with positive gain, best gain: -inf\n",
            "[LightGBM] [Warning] No further splits with positive gain, best gain: -inf\n",
            "[LightGBM] [Warning] No further splits with positive gain, best gain: -inf\n",
            "[LightGBM] [Warning] No further splits with positive gain, best gain: -inf\n",
            "[LightGBM] [Warning] No further splits with positive gain, best gain: -inf\n",
            "[LightGBM] [Warning] No further splits with positive gain, best gain: -inf\n"
          ]
        },
        {
          "name": "stderr",
          "output_type": "stream",
          "text": [
            "\n"
          ]
        }
      ],
      "source": [
        "clf = LazyClassifier(verbose=False, ignore_warnings=True, custom_metric = None)\n",
        "X_train, y_train, X_val, y_val = data_train.drop(['good_cond'], axis=1), data_train['good_cond'], data_val.drop(['good_cond'], axis=1), data_val['good_cond']\n",
        "m, p = clf.fit(X_train, X_val, y_train, y_val)"
      ]
    },
    {
      "cell_type": "code",
      "execution_count": null,
      "id": "743ad02b",
      "metadata": {
        "id": "743ad02b",
        "outputId": "27a411c4-9450-49cf-976f-11be366a31d0"
      },
      "outputs": [
        {
          "name": "stdout",
          "output_type": "stream",
          "text": [
            "                               Accuracy  Balanced Accuracy  ROC AUC  F1 Score  \\\n",
            "Model                                                                           \n",
            "LabelPropagation                   0.73               0.72     0.72      0.72   \n",
            "LabelSpreading                     0.73               0.72     0.72      0.72   \n",
            "KNeighborsClassifier               0.70               0.70     0.70      0.70   \n",
            "AdaBoostClassifier                 0.68               0.68     0.68      0.68   \n",
            "ExtraTreesClassifier               0.68               0.68     0.68      0.68   \n",
            "DecisionTreeClassifier             0.66               0.66     0.66      0.66   \n",
            "ExtraTreeClassifier                0.66               0.66     0.66      0.66   \n",
            "RandomForestClassifier             0.64               0.64     0.64      0.64   \n",
            "LogisticRegression                 0.64               0.64     0.64      0.64   \n",
            "CalibratedClassifierCV             0.64               0.64     0.64      0.64   \n",
            "Perceptron                         0.61               0.62     0.62      0.59   \n",
            "PassiveAggressiveClassifier        0.61               0.62     0.62      0.60   \n",
            "SVC                                0.61               0.61     0.61      0.61   \n",
            "RidgeClassifierCV                  0.61               0.61     0.61      0.61   \n",
            "RidgeClassifier                    0.61               0.61     0.61      0.61   \n",
            "LinearSVC                          0.61               0.61     0.61      0.61   \n",
            "LinearDiscriminantAnalysis         0.61               0.61     0.61      0.61   \n",
            "QuadraticDiscriminantAnalysis      0.61               0.60     0.60      0.59   \n",
            "NuSVC                              0.59               0.59     0.59      0.59   \n",
            "SGDClassifier                      0.59               0.59     0.59      0.59   \n",
            "BaggingClassifier                  0.57               0.57     0.57      0.56   \n",
            "XGBClassifier                      0.57               0.57     0.57      0.57   \n",
            "NearestCentroid                    0.55               0.55     0.55      0.54   \n",
            "BernoulliNB                        0.55               0.55     0.55      0.54   \n",
            "LGBMClassifier                     0.55               0.54     0.54      0.54   \n",
            "GaussianNB                         0.52               0.51     0.51      0.50   \n",
            "DummyClassifier                    0.48               0.50     0.50      0.31   \n",
            "\n",
            "                               Time Taken  \n",
            "Model                                      \n",
            "LabelPropagation                     0.03  \n",
            "LabelSpreading                       0.02  \n",
            "KNeighborsClassifier                 0.26  \n",
            "AdaBoostClassifier                   0.11  \n",
            "ExtraTreesClassifier                 0.39  \n",
            "DecisionTreeClassifier               0.01  \n",
            "ExtraTreeClassifier                  0.03  \n",
            "RandomForestClassifier               0.24  \n",
            "LogisticRegression                   0.02  \n",
            "CalibratedClassifierCV               0.05  \n",
            "Perceptron                           0.02  \n",
            "PassiveAggressiveClassifier          0.02  \n",
            "SVC                                  0.02  \n",
            "RidgeClassifierCV                    0.02  \n",
            "RidgeClassifier                      0.06  \n",
            "LinearSVC                            0.03  \n",
            "LinearDiscriminantAnalysis           0.02  \n",
            "QuadraticDiscriminantAnalysis        0.03  \n",
            "NuSVC                                0.02  \n",
            "SGDClassifier                        0.02  \n",
            "BaggingClassifier                    0.04  \n",
            "XGBClassifier                        0.13  \n",
            "NearestCentroid                      0.03  \n",
            "BernoulliNB                          0.07  \n",
            "LGBMClassifier                       0.19  \n",
            "GaussianNB                           0.03  \n",
            "DummyClassifier                      0.02                                  Accuracy  Balanced Accuracy  ROC AUC  F1 Score  \\\n",
            "Model                                                                           \n",
            "LabelPropagation                   0.73               0.72     0.72      0.72   \n",
            "LabelSpreading                     0.73               0.72     0.72      0.72   \n",
            "KNeighborsClassifier               0.70               0.70     0.70      0.70   \n",
            "AdaBoostClassifier                 0.68               0.68     0.68      0.68   \n",
            "ExtraTreesClassifier               0.68               0.68     0.68      0.68   \n",
            "DecisionTreeClassifier             0.66               0.66     0.66      0.66   \n",
            "ExtraTreeClassifier                0.66               0.66     0.66      0.66   \n",
            "RandomForestClassifier             0.64               0.64     0.64      0.64   \n",
            "LogisticRegression                 0.64               0.64     0.64      0.64   \n",
            "CalibratedClassifierCV             0.64               0.64     0.64      0.64   \n",
            "Perceptron                         0.61               0.62     0.62      0.59   \n",
            "PassiveAggressiveClassifier        0.61               0.62     0.62      0.60   \n",
            "SVC                                0.61               0.61     0.61      0.61   \n",
            "RidgeClassifierCV                  0.61               0.61     0.61      0.61   \n",
            "RidgeClassifier                    0.61               0.61     0.61      0.61   \n",
            "LinearSVC                          0.61               0.61     0.61      0.61   \n",
            "LinearDiscriminantAnalysis         0.61               0.61     0.61      0.61   \n",
            "QuadraticDiscriminantAnalysis      0.61               0.60     0.60      0.59   \n",
            "NuSVC                              0.59               0.59     0.59      0.59   \n",
            "SGDClassifier                      0.59               0.59     0.59      0.59   \n",
            "BaggingClassifier                  0.57               0.57     0.57      0.56   \n",
            "XGBClassifier                      0.57               0.57     0.57      0.57   \n",
            "NearestCentroid                    0.55               0.55     0.55      0.54   \n",
            "BernoulliNB                        0.55               0.55     0.55      0.54   \n",
            "LGBMClassifier                     0.55               0.54     0.54      0.54   \n",
            "GaussianNB                         0.52               0.51     0.51      0.50   \n",
            "DummyClassifier                    0.48               0.50     0.50      0.31   \n",
            "\n",
            "                               Time Taken  \n",
            "Model                                      \n",
            "LabelPropagation                     0.03  \n",
            "LabelSpreading                       0.02  \n",
            "KNeighborsClassifier                 0.26  \n",
            "AdaBoostClassifier                   0.11  \n",
            "ExtraTreesClassifier                 0.39  \n",
            "DecisionTreeClassifier               0.01  \n",
            "ExtraTreeClassifier                  0.03  \n",
            "RandomForestClassifier               0.24  \n",
            "LogisticRegression                   0.02  \n",
            "CalibratedClassifierCV               0.05  \n",
            "Perceptron                           0.02  \n",
            "PassiveAggressiveClassifier          0.02  \n",
            "SVC                                  0.02  \n",
            "RidgeClassifierCV                    0.02  \n",
            "RidgeClassifier                      0.06  \n",
            "LinearSVC                            0.03  \n",
            "LinearDiscriminantAnalysis           0.02  \n",
            "QuadraticDiscriminantAnalysis        0.03  \n",
            "NuSVC                                0.02  \n",
            "SGDClassifier                        0.02  \n",
            "BaggingClassifier                    0.04  \n",
            "XGBClassifier                        0.13  \n",
            "NearestCentroid                      0.03  \n",
            "BernoulliNB                          0.07  \n",
            "LGBMClassifier                       0.19  \n",
            "GaussianNB                           0.03  \n",
            "DummyClassifier                      0.02  \n"
          ]
        }
      ],
      "source": [
        "print(p, m)"
      ]
    },
    {
      "cell_type": "markdown",
      "id": "03750e52",
      "metadata": {
        "id": "03750e52"
      },
      "source": [
        "## Summary of Results\n",
        "\n",
        "with time only: 0.75  \n",
        "with temp only: 0.73  \n",
        "with both temp and time: 0.73  \n",
        "with neither temp nor time: 0.70  \n",
        "  \n",
        "Adding time only is best. Temperature doesn't affect as much as time does. Adding both together inhibits rather than enhancing"
      ]
    },
    {
      "cell_type": "markdown",
      "id": "ddff3eb1",
      "metadata": {
        "id": "ddff3eb1"
      },
      "source": [
        "## Testing With New Dataset"
      ]
    },
    {
      "cell_type": "code",
      "execution_count": null,
      "id": "b05542e1",
      "metadata": {
        "id": "b05542e1"
      },
      "outputs": [],
      "source": [
        "def get_enev(x):\n",
        "    try:\n",
        "        if x=='Eu':\n",
        "            return 1.2\n",
        "        x = element(x)\n",
        "        return x.en_pauling\n",
        "    except Exception as e:\n",
        "        return 0"
      ]
    },
    {
      "cell_type": "code",
      "execution_count": null,
      "id": "0b2d7fd9",
      "metadata": {
        "id": "0b2d7fd9"
      },
      "outputs": [],
      "source": [
        "def get_irad(x):\n",
        "    try:\n",
        "        x = element(x)\n",
        "        radii = [y.ionic_radius for y in x.ionic_radii]\n",
        "        return sum(radii)/len(radii)\n",
        "    except Exception as e:\n",
        "        return 0"
      ]
    },
    {
      "cell_type": "code",
      "execution_count": null,
      "id": "2dabfea8",
      "metadata": {
        "id": "2dabfea8"
      },
      "outputs": [],
      "source": [
        "def get_anum(x):\n",
        "    try:\n",
        "        if x!=\"None\":\n",
        "            return element(x).atomic_number\n",
        "        else:\n",
        "            return 0\n",
        "    except:\n",
        "        print(x)"
      ]
    },
    {
      "cell_type": "code",
      "execution_count": null,
      "id": "88b7ea2a",
      "metadata": {
        "id": "88b7ea2a"
      },
      "outputs": [],
      "source": [
        "df_test = pd.read_csv('llzo_testing.csv').dropna(how='all')"
      ]
    },
    {
      "cell_type": "code",
      "execution_count": null,
      "id": "2a764410",
      "metadata": {
        "id": "2a764410"
      },
      "outputs": [],
      "source": [
        "df_test[['li_dopant', 'la_dopant', 'zr_dopant']] = df_test[['li_dopant', 'la_dopant', 'zr_dopant']].fillna(\"None\").astype('str')\n",
        "df_test['li_dopant'] = df_test['li_dopant'].apply(lambda x: x[0].upper() + x[1:])\n",
        "df_test['la_dopant'] = df_test['la_dopant'].apply(lambda x: x[0].upper() + x[1:])\n",
        "df_test['zr_dopant'] = df_test['zr_dopant'].apply(lambda x: x[0].upper() + x[1:])"
      ]
    },
    {
      "cell_type": "code",
      "execution_count": null,
      "id": "6bd6bc8d",
      "metadata": {
        "id": "6bd6bc8d"
      },
      "outputs": [],
      "source": [
        "df_test['li_dop_enev'] = df_test['li_dopant'].apply(lambda x: get_enev(x))\n",
        "df_test['la_dop_enev'] = df_test['la_dopant'].apply(lambda x: get_enev(x))\n",
        "df_test['zr_dop_enev'] = df_test['zr_dopant'].apply(lambda x: get_enev(x))"
      ]
    },
    {
      "cell_type": "code",
      "execution_count": null,
      "id": "04d4529e",
      "metadata": {
        "id": "04d4529e"
      },
      "outputs": [],
      "source": [
        "df_test['li_dop_ionicrad'] = df_test['li_dopant'].apply(lambda x: get_irad(x))\n",
        "df_test['la_dop_ionicrad'] = df_test['la_dopant'].apply(lambda x: get_irad(x))\n",
        "df_test['zr_dop_ionicrad'] = df_test['zr_dopant'].apply(lambda x: get_irad(x))"
      ]
    },
    {
      "cell_type": "code",
      "execution_count": null,
      "id": "dc375929",
      "metadata": {
        "id": "dc375929"
      },
      "outputs": [],
      "source": [
        "df_test['li_dopant'] = df_test['li_dopant'].apply(lambda x: get_anum(x))\n",
        "df_test['la_dopant'] = df_test['la_dopant'].apply(lambda x: get_anum(x))\n",
        "df_test['zr_dopant'] = df_test['zr_dopant'].apply(lambda x: get_anum(x))"
      ]
    },
    {
      "cell_type": "code",
      "execution_count": null,
      "id": "d72832fd",
      "metadata": {
        "id": "d72832fd"
      },
      "outputs": [],
      "source": [
        "df_test = df_test.drop(['source', 'rel_dens_%', 'conductivity', 'log_cond'], axis=1)"
      ]
    },
    {
      "cell_type": "code",
      "execution_count": null,
      "id": "12d62762",
      "metadata": {
        "id": "12d62762",
        "outputId": "29b9766e-639d-4f82-ff3b-ca835762f0d4"
      },
      "outputs": [
        {
          "data": {
            "text/html": [
              "<style>#sk-container-id-3 {color: black;background-color: white;}#sk-container-id-3 pre{padding: 0;}#sk-container-id-3 div.sk-toggleable {background-color: white;}#sk-container-id-3 label.sk-toggleable__label {cursor: pointer;display: block;width: 100%;margin-bottom: 0;padding: 0.3em;box-sizing: border-box;text-align: center;}#sk-container-id-3 label.sk-toggleable__label-arrow:before {content: \"▸\";float: left;margin-right: 0.25em;color: #696969;}#sk-container-id-3 label.sk-toggleable__label-arrow:hover:before {color: black;}#sk-container-id-3 div.sk-estimator:hover label.sk-toggleable__label-arrow:before {color: black;}#sk-container-id-3 div.sk-toggleable__content {max-height: 0;max-width: 0;overflow: hidden;text-align: left;background-color: #f0f8ff;}#sk-container-id-3 div.sk-toggleable__content pre {margin: 0.2em;color: black;border-radius: 0.25em;background-color: #f0f8ff;}#sk-container-id-3 input.sk-toggleable__control:checked~div.sk-toggleable__content {max-height: 200px;max-width: 100%;overflow: auto;}#sk-container-id-3 input.sk-toggleable__control:checked~label.sk-toggleable__label-arrow:before {content: \"▾\";}#sk-container-id-3 div.sk-estimator input.sk-toggleable__control:checked~label.sk-toggleable__label {background-color: #d4ebff;}#sk-container-id-3 div.sk-label input.sk-toggleable__control:checked~label.sk-toggleable__label {background-color: #d4ebff;}#sk-container-id-3 input.sk-hidden--visually {border: 0;clip: rect(1px 1px 1px 1px);clip: rect(1px, 1px, 1px, 1px);height: 1px;margin: -1px;overflow: hidden;padding: 0;position: absolute;width: 1px;}#sk-container-id-3 div.sk-estimator {font-family: monospace;background-color: #f0f8ff;border: 1px dotted black;border-radius: 0.25em;box-sizing: border-box;margin-bottom: 0.5em;}#sk-container-id-3 div.sk-estimator:hover {background-color: #d4ebff;}#sk-container-id-3 div.sk-parallel-item::after {content: \"\";width: 100%;border-bottom: 1px solid gray;flex-grow: 1;}#sk-container-id-3 div.sk-label:hover label.sk-toggleable__label {background-color: #d4ebff;}#sk-container-id-3 div.sk-serial::before {content: \"\";position: absolute;border-left: 1px solid gray;box-sizing: border-box;top: 0;bottom: 0;left: 50%;z-index: 0;}#sk-container-id-3 div.sk-serial {display: flex;flex-direction: column;align-items: center;background-color: white;padding-right: 0.2em;padding-left: 0.2em;position: relative;}#sk-container-id-3 div.sk-item {position: relative;z-index: 1;}#sk-container-id-3 div.sk-parallel {display: flex;align-items: stretch;justify-content: center;background-color: white;position: relative;}#sk-container-id-3 div.sk-item::before, #sk-container-id-3 div.sk-parallel-item::before {content: \"\";position: absolute;border-left: 1px solid gray;box-sizing: border-box;top: 0;bottom: 0;left: 50%;z-index: -1;}#sk-container-id-3 div.sk-parallel-item {display: flex;flex-direction: column;z-index: 1;position: relative;background-color: white;}#sk-container-id-3 div.sk-parallel-item:first-child::after {align-self: flex-end;width: 50%;}#sk-container-id-3 div.sk-parallel-item:last-child::after {align-self: flex-start;width: 50%;}#sk-container-id-3 div.sk-parallel-item:only-child::after {width: 0;}#sk-container-id-3 div.sk-dashed-wrapped {border: 1px dashed gray;margin: 0 0.4em 0.5em 0.4em;box-sizing: border-box;padding-bottom: 0.4em;background-color: white;}#sk-container-id-3 div.sk-label label {font-family: monospace;font-weight: bold;display: inline-block;line-height: 1.2em;}#sk-container-id-3 div.sk-label-container {text-align: center;}#sk-container-id-3 div.sk-container {/* jupyter's `normalize.less` sets `[hidden] { display: none; }` but bootstrap.min.css set `[hidden] { display: none !important; }` so we also need the `!important` here to be able to override the default hidden behavior on the sphinx rendered scikit-learn.org. See: https://github.com/scikit-learn/scikit-learn/issues/21755 */display: inline-block !important;position: relative;}#sk-container-id-3 div.sk-text-repr-fallback {display: none;}</style><div id=\"sk-container-id-3\" class=\"sk-top-container\"><div class=\"sk-text-repr-fallback\"><pre>LabelPropagation()</pre><b>In a Jupyter environment, please rerun this cell to show the HTML representation or trust the notebook. <br />On GitHub, the HTML representation is unable to render, please try loading this page with nbviewer.org.</b></div><div class=\"sk-container\" hidden><div class=\"sk-item\"><div class=\"sk-estimator sk-toggleable\"><input class=\"sk-toggleable__control sk-hidden--visually\" id=\"sk-estimator-id-3\" type=\"checkbox\" checked><label for=\"sk-estimator-id-3\" class=\"sk-toggleable__label sk-toggleable__label-arrow\">LabelPropagation</label><div class=\"sk-toggleable__content\"><pre>LabelPropagation()</pre></div></div></div></div></div>"
            ],
            "text/plain": [
              "LabelPropagation()"
            ]
          },
          "execution_count": 70,
          "metadata": {},
          "output_type": "execute_result"
        }
      ],
      "source": [
        "# using best classifier\n",
        "clf = sklearn.semi_supervised.LabelPropagation()\n",
        "X_train, y_train = data_train_withtime.drop(['good_cond'], axis=1), data_train_withtime['good_cond']\n",
        "clf.fit(X_train, y_train)"
      ]
    },
    {
      "cell_type": "code",
      "execution_count": null,
      "id": "a40d7dfa",
      "metadata": {
        "id": "a40d7dfa"
      },
      "outputs": [],
      "source": [
        "preds = clf.predict(df_test.drop(['good_cond', 'sintering_temp'], axis=1))"
      ]
    },
    {
      "cell_type": "code",
      "execution_count": null,
      "id": "b7f97e08",
      "metadata": {
        "id": "b7f97e08"
      },
      "outputs": [],
      "source": [
        "df_test['predicted_cond'] = preds"
      ]
    },
    {
      "cell_type": "code",
      "execution_count": null,
      "id": "5d86e006",
      "metadata": {
        "id": "5d86e006",
        "outputId": "5905df9c-9bf0-4135-f391-3ef6a95d1810"
      },
      "outputs": [
        {
          "name": "stdout",
          "output_type": "stream",
          "text": [
            "              precision    recall  f1-score   support\n",
            "\n",
            "         0.0       0.58      0.93      0.72        15\n",
            "         1.0       0.50      0.09      0.15        11\n",
            "\n",
            "    accuracy                           0.58        26\n",
            "   macro avg       0.54      0.51      0.44        26\n",
            "weighted avg       0.55      0.58      0.48        26\n",
            "\n"
          ]
        }
      ],
      "source": [
        "print(classification_report(df_test['good_cond'], df_test['predicted_cond']))"
      ]
    },
    {
      "cell_type": "code",
      "execution_count": null,
      "id": "3e9e72a8",
      "metadata": {
        "id": "3e9e72a8",
        "outputId": "89e7cc70-4555-441e-9f0d-c4dee1d79760"
      },
      "outputs": [
        {
          "data": {
            "text/html": [
              "<div>\n",
              "<style scoped>\n",
              "    .dataframe tbody tr th:only-of-type {\n",
              "        vertical-align: middle;\n",
              "    }\n",
              "\n",
              "    .dataframe tbody tr th {\n",
              "        vertical-align: top;\n",
              "    }\n",
              "\n",
              "    .dataframe thead th {\n",
              "        text-align: right;\n",
              "    }\n",
              "</style>\n",
              "<table border=\"1\" class=\"dataframe\">\n",
              "  <thead>\n",
              "    <tr style=\"text-align: right;\">\n",
              "      <th></th>\n",
              "      <th>li_sto</th>\n",
              "      <th>la_sto</th>\n",
              "      <th>zr_sto</th>\n",
              "      <th>sintering_temp</th>\n",
              "      <th>sintering_time</th>\n",
              "      <th>li_dop_sto</th>\n",
              "      <th>la_dop_sto</th>\n",
              "      <th>zr_dop_sto</th>\n",
              "      <th>good_cond</th>\n",
              "      <th>li_dopant</th>\n",
              "      <th>la_dopant</th>\n",
              "      <th>zr_dopant</th>\n",
              "      <th>li_dop_ionicrad</th>\n",
              "      <th>la_dop_ionicrad</th>\n",
              "      <th>zr_dop_ionicrad</th>\n",
              "      <th>li_dop_enev</th>\n",
              "      <th>la_dop_enev</th>\n",
              "      <th>zr_dop_enev</th>\n",
              "      <th>predicted_cond</th>\n",
              "    </tr>\n",
              "  </thead>\n",
              "  <tbody>\n",
              "    <tr>\n",
              "      <th>0</th>\n",
              "      <td>6.40</td>\n",
              "      <td>3.00</td>\n",
              "      <td>1.40</td>\n",
              "      <td>1050.00</td>\n",
              "      <td>6.00</td>\n",
              "      <td>0.00</td>\n",
              "      <td>0.00</td>\n",
              "      <td>0.60</td>\n",
              "      <td>0.00</td>\n",
              "      <td>0</td>\n",
              "      <td>0</td>\n",
              "      <td>73</td>\n",
              "      <td>0.00</td>\n",
              "      <td>0</td>\n",
              "      <td>69.40</td>\n",
              "      <td>0.00</td>\n",
              "      <td>0</td>\n",
              "      <td>1.50</td>\n",
              "      <td>0</td>\n",
              "    </tr>\n",
              "    <tr>\n",
              "      <th>1</th>\n",
              "      <td>6.40</td>\n",
              "      <td>3.00</td>\n",
              "      <td>1.60</td>\n",
              "      <td>1050.00</td>\n",
              "      <td>6.00</td>\n",
              "      <td>0.07</td>\n",
              "      <td>0.00</td>\n",
              "      <td>0.40</td>\n",
              "      <td>0.00</td>\n",
              "      <td>31</td>\n",
              "      <td>0</td>\n",
              "      <td>73</td>\n",
              "      <td>54.67</td>\n",
              "      <td>0</td>\n",
              "      <td>69.40</td>\n",
              "      <td>1.81</td>\n",
              "      <td>0</td>\n",
              "      <td>1.50</td>\n",
              "      <td>0</td>\n",
              "    </tr>\n",
              "    <tr>\n",
              "      <th>2</th>\n",
              "      <td>6.40</td>\n",
              "      <td>3.00</td>\n",
              "      <td>2.00</td>\n",
              "      <td>1050.00</td>\n",
              "      <td>6.00</td>\n",
              "      <td>0.13</td>\n",
              "      <td>0.00</td>\n",
              "      <td>0.20</td>\n",
              "      <td>0.00</td>\n",
              "      <td>31</td>\n",
              "      <td>0</td>\n",
              "      <td>73</td>\n",
              "      <td>54.67</td>\n",
              "      <td>0</td>\n",
              "      <td>69.40</td>\n",
              "      <td>1.81</td>\n",
              "      <td>0</td>\n",
              "      <td>1.50</td>\n",
              "      <td>0</td>\n",
              "    </tr>\n",
              "    <tr>\n",
              "      <th>3</th>\n",
              "      <td>6.40</td>\n",
              "      <td>3.00</td>\n",
              "      <td>1.60</td>\n",
              "      <td>1050.00</td>\n",
              "      <td>6.00</td>\n",
              "      <td>0.20</td>\n",
              "      <td>0.00</td>\n",
              "      <td>0.00</td>\n",
              "      <td>0.00</td>\n",
              "      <td>31</td>\n",
              "      <td>0</td>\n",
              "      <td>0</td>\n",
              "      <td>54.67</td>\n",
              "      <td>0</td>\n",
              "      <td>0.00</td>\n",
              "      <td>1.81</td>\n",
              "      <td>0</td>\n",
              "      <td>0.00</td>\n",
              "      <td>0</td>\n",
              "    </tr>\n",
              "    <tr>\n",
              "      <th>4</th>\n",
              "      <td>6.40</td>\n",
              "      <td>3.00</td>\n",
              "      <td>1.40</td>\n",
              "      <td>1050.00</td>\n",
              "      <td>12.00</td>\n",
              "      <td>0.00</td>\n",
              "      <td>0.00</td>\n",
              "      <td>0.60</td>\n",
              "      <td>0.00</td>\n",
              "      <td>0</td>\n",
              "      <td>0</td>\n",
              "      <td>73</td>\n",
              "      <td>0.00</td>\n",
              "      <td>0</td>\n",
              "      <td>69.40</td>\n",
              "      <td>0.00</td>\n",
              "      <td>0</td>\n",
              "      <td>1.50</td>\n",
              "      <td>1</td>\n",
              "    </tr>\n",
              "    <tr>\n",
              "      <th>5</th>\n",
              "      <td>6.40</td>\n",
              "      <td>3.00</td>\n",
              "      <td>1.60</td>\n",
              "      <td>1050.00</td>\n",
              "      <td>12.00</td>\n",
              "      <td>0.07</td>\n",
              "      <td>0.00</td>\n",
              "      <td>0.40</td>\n",
              "      <td>1.00</td>\n",
              "      <td>31</td>\n",
              "      <td>0</td>\n",
              "      <td>73</td>\n",
              "      <td>54.67</td>\n",
              "      <td>0</td>\n",
              "      <td>69.40</td>\n",
              "      <td>1.81</td>\n",
              "      <td>0</td>\n",
              "      <td>1.50</td>\n",
              "      <td>0</td>\n",
              "    </tr>\n",
              "    <tr>\n",
              "      <th>6</th>\n",
              "      <td>6.40</td>\n",
              "      <td>3.00</td>\n",
              "      <td>2.00</td>\n",
              "      <td>1050.00</td>\n",
              "      <td>12.00</td>\n",
              "      <td>0.13</td>\n",
              "      <td>0.00</td>\n",
              "      <td>0.20</td>\n",
              "      <td>1.00</td>\n",
              "      <td>31</td>\n",
              "      <td>0</td>\n",
              "      <td>73</td>\n",
              "      <td>54.67</td>\n",
              "      <td>0</td>\n",
              "      <td>69.40</td>\n",
              "      <td>1.81</td>\n",
              "      <td>0</td>\n",
              "      <td>1.50</td>\n",
              "      <td>0</td>\n",
              "    </tr>\n",
              "    <tr>\n",
              "      <th>7</th>\n",
              "      <td>6.40</td>\n",
              "      <td>3.00</td>\n",
              "      <td>1.60</td>\n",
              "      <td>1050.00</td>\n",
              "      <td>12.00</td>\n",
              "      <td>0.20</td>\n",
              "      <td>0.00</td>\n",
              "      <td>0.00</td>\n",
              "      <td>1.00</td>\n",
              "      <td>31</td>\n",
              "      <td>0</td>\n",
              "      <td>0</td>\n",
              "      <td>54.67</td>\n",
              "      <td>0</td>\n",
              "      <td>0.00</td>\n",
              "      <td>1.81</td>\n",
              "      <td>0</td>\n",
              "      <td>0.00</td>\n",
              "      <td>0</td>\n",
              "    </tr>\n",
              "    <tr>\n",
              "      <th>8</th>\n",
              "      <td>6.40</td>\n",
              "      <td>3.00</td>\n",
              "      <td>1.40</td>\n",
              "      <td>1100.00</td>\n",
              "      <td>6.00</td>\n",
              "      <td>0.00</td>\n",
              "      <td>0.00</td>\n",
              "      <td>0.60</td>\n",
              "      <td>0.00</td>\n",
              "      <td>0</td>\n",
              "      <td>0</td>\n",
              "      <td>73</td>\n",
              "      <td>0.00</td>\n",
              "      <td>0</td>\n",
              "      <td>69.40</td>\n",
              "      <td>0.00</td>\n",
              "      <td>0</td>\n",
              "      <td>1.50</td>\n",
              "      <td>0</td>\n",
              "    </tr>\n",
              "    <tr>\n",
              "      <th>9</th>\n",
              "      <td>6.40</td>\n",
              "      <td>3.00</td>\n",
              "      <td>1.60</td>\n",
              "      <td>1100.00</td>\n",
              "      <td>6.00</td>\n",
              "      <td>0.07</td>\n",
              "      <td>0.00</td>\n",
              "      <td>0.40</td>\n",
              "      <td>0.00</td>\n",
              "      <td>31</td>\n",
              "      <td>0</td>\n",
              "      <td>73</td>\n",
              "      <td>54.67</td>\n",
              "      <td>0</td>\n",
              "      <td>69.40</td>\n",
              "      <td>1.81</td>\n",
              "      <td>0</td>\n",
              "      <td>1.50</td>\n",
              "      <td>0</td>\n",
              "    </tr>\n",
              "    <tr>\n",
              "      <th>10</th>\n",
              "      <td>6.40</td>\n",
              "      <td>3.00</td>\n",
              "      <td>2.00</td>\n",
              "      <td>1100.00</td>\n",
              "      <td>6.00</td>\n",
              "      <td>0.13</td>\n",
              "      <td>0.00</td>\n",
              "      <td>0.20</td>\n",
              "      <td>0.00</td>\n",
              "      <td>31</td>\n",
              "      <td>0</td>\n",
              "      <td>73</td>\n",
              "      <td>54.67</td>\n",
              "      <td>0</td>\n",
              "      <td>69.40</td>\n",
              "      <td>1.81</td>\n",
              "      <td>0</td>\n",
              "      <td>1.50</td>\n",
              "      <td>0</td>\n",
              "    </tr>\n",
              "    <tr>\n",
              "      <th>11</th>\n",
              "      <td>6.40</td>\n",
              "      <td>3.00</td>\n",
              "      <td>1.60</td>\n",
              "      <td>1100.00</td>\n",
              "      <td>6.00</td>\n",
              "      <td>0.20</td>\n",
              "      <td>0.00</td>\n",
              "      <td>0.00</td>\n",
              "      <td>1.00</td>\n",
              "      <td>31</td>\n",
              "      <td>0</td>\n",
              "      <td>0</td>\n",
              "      <td>54.67</td>\n",
              "      <td>0</td>\n",
              "      <td>0.00</td>\n",
              "      <td>1.81</td>\n",
              "      <td>0</td>\n",
              "      <td>0.00</td>\n",
              "      <td>0</td>\n",
              "    </tr>\n",
              "    <tr>\n",
              "      <th>12</th>\n",
              "      <td>6.40</td>\n",
              "      <td>3.00</td>\n",
              "      <td>1.40</td>\n",
              "      <td>1100.00</td>\n",
              "      <td>12.00</td>\n",
              "      <td>0.00</td>\n",
              "      <td>0.00</td>\n",
              "      <td>0.60</td>\n",
              "      <td>1.00</td>\n",
              "      <td>0</td>\n",
              "      <td>0</td>\n",
              "      <td>73</td>\n",
              "      <td>0.00</td>\n",
              "      <td>0</td>\n",
              "      <td>69.40</td>\n",
              "      <td>0.00</td>\n",
              "      <td>0</td>\n",
              "      <td>1.50</td>\n",
              "      <td>1</td>\n",
              "    </tr>\n",
              "    <tr>\n",
              "      <th>13</th>\n",
              "      <td>6.40</td>\n",
              "      <td>3.00</td>\n",
              "      <td>1.60</td>\n",
              "      <td>1100.00</td>\n",
              "      <td>12.00</td>\n",
              "      <td>0.07</td>\n",
              "      <td>0.00</td>\n",
              "      <td>0.40</td>\n",
              "      <td>1.00</td>\n",
              "      <td>31</td>\n",
              "      <td>0</td>\n",
              "      <td>73</td>\n",
              "      <td>54.67</td>\n",
              "      <td>0</td>\n",
              "      <td>69.40</td>\n",
              "      <td>1.81</td>\n",
              "      <td>0</td>\n",
              "      <td>1.50</td>\n",
              "      <td>0</td>\n",
              "    </tr>\n",
              "    <tr>\n",
              "      <th>14</th>\n",
              "      <td>6.40</td>\n",
              "      <td>3.00</td>\n",
              "      <td>2.00</td>\n",
              "      <td>1100.00</td>\n",
              "      <td>12.00</td>\n",
              "      <td>0.13</td>\n",
              "      <td>0.00</td>\n",
              "      <td>0.20</td>\n",
              "      <td>1.00</td>\n",
              "      <td>31</td>\n",
              "      <td>0</td>\n",
              "      <td>73</td>\n",
              "      <td>54.67</td>\n",
              "      <td>0</td>\n",
              "      <td>69.40</td>\n",
              "      <td>1.81</td>\n",
              "      <td>0</td>\n",
              "      <td>1.50</td>\n",
              "      <td>0</td>\n",
              "    </tr>\n",
              "    <tr>\n",
              "      <th>15</th>\n",
              "      <td>6.40</td>\n",
              "      <td>3.00</td>\n",
              "      <td>1.60</td>\n",
              "      <td>1100.00</td>\n",
              "      <td>12.00</td>\n",
              "      <td>0.20</td>\n",
              "      <td>0.00</td>\n",
              "      <td>0.00</td>\n",
              "      <td>1.00</td>\n",
              "      <td>31</td>\n",
              "      <td>0</td>\n",
              "      <td>0</td>\n",
              "      <td>54.67</td>\n",
              "      <td>0</td>\n",
              "      <td>0.00</td>\n",
              "      <td>1.81</td>\n",
              "      <td>0</td>\n",
              "      <td>0.00</td>\n",
              "      <td>0</td>\n",
              "    </tr>\n",
              "    <tr>\n",
              "      <th>16</th>\n",
              "      <td>7.05</td>\n",
              "      <td>3.00</td>\n",
              "      <td>1.95</td>\n",
              "      <td>950.00</td>\n",
              "      <td>13.00</td>\n",
              "      <td>0.00</td>\n",
              "      <td>0.00</td>\n",
              "      <td>0.05</td>\n",
              "      <td>0.00</td>\n",
              "      <td>0</td>\n",
              "      <td>0</td>\n",
              "      <td>63</td>\n",
              "      <td>0.00</td>\n",
              "      <td>0</td>\n",
              "      <td>115.70</td>\n",
              "      <td>0.00</td>\n",
              "      <td>0</td>\n",
              "      <td>1.20</td>\n",
              "      <td>0</td>\n",
              "    </tr>\n",
              "    <tr>\n",
              "      <th>17</th>\n",
              "      <td>7.10</td>\n",
              "      <td>3.00</td>\n",
              "      <td>1.90</td>\n",
              "      <td>950.00</td>\n",
              "      <td>13.00</td>\n",
              "      <td>0.00</td>\n",
              "      <td>0.00</td>\n",
              "      <td>0.10</td>\n",
              "      <td>0.00</td>\n",
              "      <td>0</td>\n",
              "      <td>0</td>\n",
              "      <td>63</td>\n",
              "      <td>0.00</td>\n",
              "      <td>0</td>\n",
              "      <td>115.70</td>\n",
              "      <td>0.00</td>\n",
              "      <td>0</td>\n",
              "      <td>1.20</td>\n",
              "      <td>0</td>\n",
              "    </tr>\n",
              "    <tr>\n",
              "      <th>18</th>\n",
              "      <td>7.15</td>\n",
              "      <td>3.00</td>\n",
              "      <td>1.85</td>\n",
              "      <td>950.00</td>\n",
              "      <td>13.00</td>\n",
              "      <td>0.00</td>\n",
              "      <td>0.00</td>\n",
              "      <td>0.15</td>\n",
              "      <td>0.00</td>\n",
              "      <td>0</td>\n",
              "      <td>0</td>\n",
              "      <td>63</td>\n",
              "      <td>0.00</td>\n",
              "      <td>0</td>\n",
              "      <td>115.70</td>\n",
              "      <td>0.00</td>\n",
              "      <td>0</td>\n",
              "      <td>1.20</td>\n",
              "      <td>0</td>\n",
              "    </tr>\n",
              "    <tr>\n",
              "      <th>19</th>\n",
              "      <td>7.20</td>\n",
              "      <td>3.00</td>\n",
              "      <td>1.80</td>\n",
              "      <td>950.00</td>\n",
              "      <td>13.00</td>\n",
              "      <td>0.00</td>\n",
              "      <td>0.00</td>\n",
              "      <td>0.20</td>\n",
              "      <td>0.00</td>\n",
              "      <td>0</td>\n",
              "      <td>0</td>\n",
              "      <td>63</td>\n",
              "      <td>0.00</td>\n",
              "      <td>0</td>\n",
              "      <td>115.70</td>\n",
              "      <td>0.00</td>\n",
              "      <td>0</td>\n",
              "      <td>1.20</td>\n",
              "      <td>0</td>\n",
              "    </tr>\n",
              "    <tr>\n",
              "      <th>20</th>\n",
              "      <td>6.25</td>\n",
              "      <td>3.00</td>\n",
              "      <td>2.00</td>\n",
              "      <td>1180.00</td>\n",
              "      <td>10.00</td>\n",
              "      <td>0.25</td>\n",
              "      <td>0.00</td>\n",
              "      <td>0.00</td>\n",
              "      <td>0.00</td>\n",
              "      <td>13</td>\n",
              "      <td>0</td>\n",
              "      <td>0</td>\n",
              "      <td>46.83</td>\n",
              "      <td>0</td>\n",
              "      <td>0.00</td>\n",
              "      <td>1.61</td>\n",
              "      <td>0</td>\n",
              "      <td>0.00</td>\n",
              "      <td>0</td>\n",
              "    </tr>\n",
              "    <tr>\n",
              "      <th>21</th>\n",
              "      <td>6.55</td>\n",
              "      <td>3.00</td>\n",
              "      <td>2.00</td>\n",
              "      <td>1075.00</td>\n",
              "      <td>12.00</td>\n",
              "      <td>0.15</td>\n",
              "      <td>0.00</td>\n",
              "      <td>0.00</td>\n",
              "      <td>1.00</td>\n",
              "      <td>31</td>\n",
              "      <td>0</td>\n",
              "      <td>0</td>\n",
              "      <td>54.67</td>\n",
              "      <td>0</td>\n",
              "      <td>0.00</td>\n",
              "      <td>1.81</td>\n",
              "      <td>0</td>\n",
              "      <td>0.00</td>\n",
              "      <td>0</td>\n",
              "    </tr>\n",
              "    <tr>\n",
              "      <th>22</th>\n",
              "      <td>6.25</td>\n",
              "      <td>3.00</td>\n",
              "      <td>2.00</td>\n",
              "      <td>1200.00</td>\n",
              "      <td>0.03</td>\n",
              "      <td>0.25</td>\n",
              "      <td>0.00</td>\n",
              "      <td>0.00</td>\n",
              "      <td>1.00</td>\n",
              "      <td>31</td>\n",
              "      <td>0</td>\n",
              "      <td>0</td>\n",
              "      <td>54.67</td>\n",
              "      <td>0</td>\n",
              "      <td>0.00</td>\n",
              "      <td>1.81</td>\n",
              "      <td>0</td>\n",
              "      <td>0.00</td>\n",
              "      <td>0</td>\n",
              "    </tr>\n",
              "    <tr>\n",
              "      <th>23</th>\n",
              "      <td>6.25</td>\n",
              "      <td>3.00</td>\n",
              "      <td>2.00</td>\n",
              "      <td>1200.00</td>\n",
              "      <td>0.17</td>\n",
              "      <td>0.25</td>\n",
              "      <td>0.00</td>\n",
              "      <td>0.00</td>\n",
              "      <td>1.00</td>\n",
              "      <td>31</td>\n",
              "      <td>0</td>\n",
              "      <td>0</td>\n",
              "      <td>54.67</td>\n",
              "      <td>0</td>\n",
              "      <td>0.00</td>\n",
              "      <td>1.81</td>\n",
              "      <td>0</td>\n",
              "      <td>0.00</td>\n",
              "      <td>0</td>\n",
              "    </tr>\n",
              "    <tr>\n",
              "      <th>24</th>\n",
              "      <td>6.25</td>\n",
              "      <td>3.00</td>\n",
              "      <td>2.00</td>\n",
              "      <td>1150.00</td>\n",
              "      <td>0.50</td>\n",
              "      <td>0.25</td>\n",
              "      <td>0.00</td>\n",
              "      <td>0.00</td>\n",
              "      <td>0.00</td>\n",
              "      <td>31</td>\n",
              "      <td>0</td>\n",
              "      <td>0</td>\n",
              "      <td>54.67</td>\n",
              "      <td>0</td>\n",
              "      <td>0.00</td>\n",
              "      <td>1.81</td>\n",
              "      <td>0</td>\n",
              "      <td>0.00</td>\n",
              "      <td>0</td>\n",
              "    </tr>\n",
              "    <tr>\n",
              "      <th>25</th>\n",
              "      <td>6.25</td>\n",
              "      <td>3.00</td>\n",
              "      <td>2.00</td>\n",
              "      <td>1100.00</td>\n",
              "      <td>1.00</td>\n",
              "      <td>0.25</td>\n",
              "      <td>0.00</td>\n",
              "      <td>0.00</td>\n",
              "      <td>0.00</td>\n",
              "      <td>31</td>\n",
              "      <td>0</td>\n",
              "      <td>0</td>\n",
              "      <td>54.67</td>\n",
              "      <td>0</td>\n",
              "      <td>0.00</td>\n",
              "      <td>1.81</td>\n",
              "      <td>0</td>\n",
              "      <td>0.00</td>\n",
              "      <td>0</td>\n",
              "    </tr>\n",
              "  </tbody>\n",
              "</table>\n",
              "</div>"
            ],
            "text/plain": [
              "    li_sto  la_sto  zr_sto  sintering_temp  sintering_time  li_dop_sto  \\\n",
              "0     6.40    3.00    1.40         1050.00            6.00        0.00   \n",
              "1     6.40    3.00    1.60         1050.00            6.00        0.07   \n",
              "2     6.40    3.00    2.00         1050.00            6.00        0.13   \n",
              "3     6.40    3.00    1.60         1050.00            6.00        0.20   \n",
              "4     6.40    3.00    1.40         1050.00           12.00        0.00   \n",
              "5     6.40    3.00    1.60         1050.00           12.00        0.07   \n",
              "6     6.40    3.00    2.00         1050.00           12.00        0.13   \n",
              "7     6.40    3.00    1.60         1050.00           12.00        0.20   \n",
              "8     6.40    3.00    1.40         1100.00            6.00        0.00   \n",
              "9     6.40    3.00    1.60         1100.00            6.00        0.07   \n",
              "10    6.40    3.00    2.00         1100.00            6.00        0.13   \n",
              "11    6.40    3.00    1.60         1100.00            6.00        0.20   \n",
              "12    6.40    3.00    1.40         1100.00           12.00        0.00   \n",
              "13    6.40    3.00    1.60         1100.00           12.00        0.07   \n",
              "14    6.40    3.00    2.00         1100.00           12.00        0.13   \n",
              "15    6.40    3.00    1.60         1100.00           12.00        0.20   \n",
              "16    7.05    3.00    1.95          950.00           13.00        0.00   \n",
              "17    7.10    3.00    1.90          950.00           13.00        0.00   \n",
              "18    7.15    3.00    1.85          950.00           13.00        0.00   \n",
              "19    7.20    3.00    1.80          950.00           13.00        0.00   \n",
              "20    6.25    3.00    2.00         1180.00           10.00        0.25   \n",
              "21    6.55    3.00    2.00         1075.00           12.00        0.15   \n",
              "22    6.25    3.00    2.00         1200.00            0.03        0.25   \n",
              "23    6.25    3.00    2.00         1200.00            0.17        0.25   \n",
              "24    6.25    3.00    2.00         1150.00            0.50        0.25   \n",
              "25    6.25    3.00    2.00         1100.00            1.00        0.25   \n",
              "\n",
              "    la_dop_sto  zr_dop_sto  good_cond  li_dopant  la_dopant  zr_dopant  \\\n",
              "0         0.00        0.60       0.00          0          0         73   \n",
              "1         0.00        0.40       0.00         31          0         73   \n",
              "2         0.00        0.20       0.00         31          0         73   \n",
              "3         0.00        0.00       0.00         31          0          0   \n",
              "4         0.00        0.60       0.00          0          0         73   \n",
              "5         0.00        0.40       1.00         31          0         73   \n",
              "6         0.00        0.20       1.00         31          0         73   \n",
              "7         0.00        0.00       1.00         31          0          0   \n",
              "8         0.00        0.60       0.00          0          0         73   \n",
              "9         0.00        0.40       0.00         31          0         73   \n",
              "10        0.00        0.20       0.00         31          0         73   \n",
              "11        0.00        0.00       1.00         31          0          0   \n",
              "12        0.00        0.60       1.00          0          0         73   \n",
              "13        0.00        0.40       1.00         31          0         73   \n",
              "14        0.00        0.20       1.00         31          0         73   \n",
              "15        0.00        0.00       1.00         31          0          0   \n",
              "16        0.00        0.05       0.00          0          0         63   \n",
              "17        0.00        0.10       0.00          0          0         63   \n",
              "18        0.00        0.15       0.00          0          0         63   \n",
              "19        0.00        0.20       0.00          0          0         63   \n",
              "20        0.00        0.00       0.00         13          0          0   \n",
              "21        0.00        0.00       1.00         31          0          0   \n",
              "22        0.00        0.00       1.00         31          0          0   \n",
              "23        0.00        0.00       1.00         31          0          0   \n",
              "24        0.00        0.00       0.00         31          0          0   \n",
              "25        0.00        0.00       0.00         31          0          0   \n",
              "\n",
              "    li_dop_ionicrad  la_dop_ionicrad  zr_dop_ionicrad  li_dop_enev  \\\n",
              "0              0.00                0            69.40         0.00   \n",
              "1             54.67                0            69.40         1.81   \n",
              "2             54.67                0            69.40         1.81   \n",
              "3             54.67                0             0.00         1.81   \n",
              "4              0.00                0            69.40         0.00   \n",
              "5             54.67                0            69.40         1.81   \n",
              "6             54.67                0            69.40         1.81   \n",
              "7             54.67                0             0.00         1.81   \n",
              "8              0.00                0            69.40         0.00   \n",
              "9             54.67                0            69.40         1.81   \n",
              "10            54.67                0            69.40         1.81   \n",
              "11            54.67                0             0.00         1.81   \n",
              "12             0.00                0            69.40         0.00   \n",
              "13            54.67                0            69.40         1.81   \n",
              "14            54.67                0            69.40         1.81   \n",
              "15            54.67                0             0.00         1.81   \n",
              "16             0.00                0           115.70         0.00   \n",
              "17             0.00                0           115.70         0.00   \n",
              "18             0.00                0           115.70         0.00   \n",
              "19             0.00                0           115.70         0.00   \n",
              "20            46.83                0             0.00         1.61   \n",
              "21            54.67                0             0.00         1.81   \n",
              "22            54.67                0             0.00         1.81   \n",
              "23            54.67                0             0.00         1.81   \n",
              "24            54.67                0             0.00         1.81   \n",
              "25            54.67                0             0.00         1.81   \n",
              "\n",
              "    la_dop_enev  zr_dop_enev  predicted_cond  \n",
              "0             0         1.50               0  \n",
              "1             0         1.50               0  \n",
              "2             0         1.50               0  \n",
              "3             0         0.00               0  \n",
              "4             0         1.50               1  \n",
              "5             0         1.50               0  \n",
              "6             0         1.50               0  \n",
              "7             0         0.00               0  \n",
              "8             0         1.50               0  \n",
              "9             0         1.50               0  \n",
              "10            0         1.50               0  \n",
              "11            0         0.00               0  \n",
              "12            0         1.50               1  \n",
              "13            0         1.50               0  \n",
              "14            0         1.50               0  \n",
              "15            0         0.00               0  \n",
              "16            0         1.20               0  \n",
              "17            0         1.20               0  \n",
              "18            0         1.20               0  \n",
              "19            0         1.20               0  \n",
              "20            0         0.00               0  \n",
              "21            0         0.00               0  \n",
              "22            0         0.00               0  \n",
              "23            0         0.00               0  \n",
              "24            0         0.00               0  \n",
              "25            0         0.00               0  "
            ]
          },
          "execution_count": 106,
          "metadata": {},
          "output_type": "execute_result"
        }
      ],
      "source": [
        "df_test"
      ]
    },
    {
      "cell_type": "code",
      "execution_count": null,
      "id": "cbdd5054",
      "metadata": {
        "id": "cbdd5054"
      },
      "outputs": [],
      "source": [
        "df_test.to_csv('validation.csv', index=False)"
      ]
    },
    {
      "cell_type": "code",
      "execution_count": null,
      "id": "a93d253f",
      "metadata": {
        "id": "a93d253f"
      },
      "outputs": [],
      "source": [
        "df_new = [\n",
        "    {\n",
        "        'li_sto': 6.95,\n",
        "        'la_sto': 3,\n",
        "        'zr_sto': 1.9,\n",
        "        'sintering_temp': 1200,\n",
        "        'sintering_time': 6,\n",
        "        'li_dop_sto': 0.05,\n",
        "        'la_dop_sto': 0,\n",
        "        'zr_dop_sto': 0.1,\n",
        "        'li_dopant': 'Ta',\n",
        "        'la_dopant': 'None',\n",
        "        'zr_dopant': 'Ge',\n",
        "    },\n",
        "    {\n",
        "        'li_sto': 6.6,\n",
        "        'la_sto': 3,\n",
        "        'zr_sto': 2,\n",
        "        'sintering_temp': 1300,\n",
        "        'sintering_time': 12,\n",
        "        'li_dop_sto': 0.2,\n",
        "        'la_dop_sto': 0,\n",
        "        'zr_dop_sto': 0,\n",
        "        'li_dopant': 'Sn',\n",
        "        'la_dopant': 'None',\n",
        "        'zr_dopant': 'None',\n",
        "    },\n",
        "    {\n",
        "        'li_sto': 6.4,\n",
        "        'la_sto': 3,\n",
        "        'zr_sto': 1.4,\n",
        "        'sintering_temp': 1100,\n",
        "        'sintering_time': 24,\n",
        "        'li_dop_sto': 0.13,\n",
        "        'la_dop_sto': 0,\n",
        "        'zr_dop_sto': 0.6,\n",
        "        'li_dopant': 'Ge',\n",
        "        'la_dopant': 'None',\n",
        "        'zr_dopant': 'Mn',\n",
        "    }\n",
        "]\n",
        "df_new = pd.DataFrame(df_new)"
      ]
    },
    {
      "cell_type": "code",
      "execution_count": null,
      "id": "66278892",
      "metadata": {
        "id": "66278892"
      },
      "outputs": [],
      "source": [
        "df_new['li_dop_enev'] = df_new['li_dopant'].apply(lambda x: get_enev(x))\n",
        "df_new['la_dop_enev'] = df_new['la_dopant'].apply(lambda x: get_enev(x))\n",
        "df_new['zr_dop_enev'] = df_new['zr_dopant'].apply(lambda x: get_enev(x))"
      ]
    },
    {
      "cell_type": "code",
      "execution_count": null,
      "id": "75ac3b7a",
      "metadata": {
        "id": "75ac3b7a"
      },
      "outputs": [],
      "source": [
        "df_new['li_dop_ionicrad'] = df_new['li_dopant'].apply(lambda x: get_irad(x))\n",
        "df_new['la_dop_ionicrad'] = df_new['la_dopant'].apply(lambda x: get_irad(x))\n",
        "df_new['zr_dop_ionicrad'] = df_new['zr_dopant'].apply(lambda x: get_irad(x))"
      ]
    },
    {
      "cell_type": "code",
      "execution_count": null,
      "id": "4abdeb50",
      "metadata": {
        "id": "4abdeb50"
      },
      "outputs": [],
      "source": [
        "df_new['li_dopant'] = df_new['li_dopant'].apply(lambda x: get_anum(x))\n",
        "df_new['la_dopant'] = df_new['la_dopant'].apply(lambda x: get_anum(x))\n",
        "df_new['zr_dopant'] = df_new['zr_dopant'].apply(lambda x: get_anum(x))"
      ]
    },
    {
      "cell_type": "code",
      "execution_count": null,
      "id": "6a9251a2",
      "metadata": {
        "id": "6a9251a2",
        "outputId": "54e4174a-ae6d-45ae-93ff-eb1f68e68350"
      },
      "outputs": [
        {
          "data": {
            "text/plain": [
              "array([0, 0, 0], dtype=int64)"
            ]
          },
          "execution_count": 141,
          "metadata": {},
          "output_type": "execute_result"
        }
      ],
      "source": [
        "clf.predict(df_new.drop(['sintering_time'], axis=1))"
      ]
    },
    {
      "cell_type": "code",
      "execution_count": null,
      "id": "daac82f9",
      "metadata": {
        "id": "daac82f9"
      },
      "outputs": [],
      "source": []
    },
    {
      "cell_type": "code",
      "execution_count": null,
      "id": "a830a15c",
      "metadata": {
        "id": "a830a15c"
      },
      "outputs": [],
      "source": []
    }
  ],
  "metadata": {
    "kernelspec": {
      "display_name": "codebert",
      "language": "python",
      "name": "codebert"
    },
    "language_info": {
      "codemirror_mode": {
        "name": "ipython",
        "version": 3
      },
      "file_extension": ".py",
      "mimetype": "text/x-python",
      "name": "python",
      "nbconvert_exporter": "python",
      "pygments_lexer": "ipython3",
      "version": "3.9.12"
    },
    "colab": {
      "provenance": []
    }
  },
  "nbformat": 4,
  "nbformat_minor": 5
}